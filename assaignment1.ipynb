{
 "cells": [
  {
   "cell_type": "code",
   "execution_count": 6,
   "metadata": {},
   "outputs": [
    {
     "name": "stdout",
     "output_type": "stream",
     "text": [
      "False\n"
     ]
    }
   ],
   "source": [
    "#1. Write a NumPy program to test whether none of the elements of a given array is zero.\n",
    "\n",
    "import numpy as np\n",
    "\n",
    "arr = np.array([1, 2, 3, 4, 5, 0])\n",
    "\n",
    "result = np.all(arr != 0)\n",
    "\n",
    "print(result)"
   ]
  },
  {
   "cell_type": "code",
   "execution_count": 5,
   "metadata": {},
   "outputs": [
    {
     "name": "stdout",
     "output_type": "stream",
     "text": [
      "True\n"
     ]
    }
   ],
   "source": [
    "#2. Write a NumPy program to test whether any of the elements of a given array is non-zero.\n",
    "\n",
    "import numpy as np\n",
    "\n",
    "arr = np.array([0, 0, 0, 0, 1])\n",
    "\n",
    "result = np.any(arr != 0)\n",
    "\n",
    "print(result)"
   ]
  },
  {
   "cell_type": "code",
   "execution_count": null,
   "metadata": {},
   "outputs": [],
   "source": [
    "#3. Write a NumPy program to create an element-wise comparison (equal, equal within a tolerance) of two given \n",
    "\n",
    "import numpy as np\n",
    "\n",
    "# Create two sample arrays\n",
    "array1 = np.array([1.0, 2.0, 3.0, 4.0])\n",
    "array2 = np.array([1.0, 2.0001, 2.9999, 4.0])\n",
    "\n",
    "# Element wise comparison for equality\n",
    "equal_comparison = np.equal(array1, array2)\n",
    "\n",
    "# Element wise comparison for equality within a tolerance\n",
    "tolerance = 0.001\n",
    "equal_within_tolerance = np.isclose(array1, array2, atol=tolerance)\n",
    "\n",
    "print(\"Array 1:\", array1)\n",
    "print(\"Array 2:\", array2)\n",
    "print(\"Element wise comparison without tolerance:\", equal_comparison)\n",
    "print(\"Element wise comparison within tolerance:\", equal_within_tolerance)"
   ]
  },
  {
   "cell_type": "code",
   "execution_count": 1,
   "metadata": {},
   "outputs": [
    {
     "name": "stdout",
     "output_type": "stream",
     "text": [
      "the array have 0 :\t[0 0 0 0 0 0 0 0 0 0]\n",
      "the array have 5:\t[5 5 5 5 5 5 5 5 5 5]\n",
      "the array have 10:\t[10 10 10 10 10 10 10 10 10 10]\n",
      "\n"
     ]
    }
   ],
   "source": [
    "#4. Write a NumPy program to create an array of 10 zeros,10 ones, 10 fives.   \n",
    "import numpy as np\n",
    "\n",
    "# Create two sample arrays\n",
    "array1 = np.array([0]*10)\n",
    "\n",
    "array2 = np.array([5]*10)\n",
    "\n",
    "array3 = np.array([10]*10)\n",
    "print(f'the array have 0 :\\t{array1}\\nthe array have 5:\\t{array2}\\nthe array have 10:\\t{array3}\\n')"
   ]
  },
  {
   "cell_type": "code",
   "execution_count": null,
   "metadata": {},
   "outputs": [],
   "source": [
    "#5. Write a NumPy program to create an array of the integers from 30 to70.  \n",
    "import numpy as np\n",
    "\n",
    "# Creating an array of integers from 30 to 70\n",
    "array = np.arange(30, 71)\n",
    "print(array)\n"
   ]
  },
  {
   "cell_type": "code",
   "execution_count": 9,
   "metadata": {},
   "outputs": [
    {
     "name": "stdout",
     "output_type": "stream",
     "text": [
      "[[1. 0. 0. 0.]\n",
      " [0. 1. 0. 0.]\n",
      " [0. 0. 1. 0.]\n",
      " [0. 0. 0. 1.]]\n"
     ]
    }
   ],
   "source": [
    "#6. Write a NumPy program to create a 3x3 identity matrix \n",
    "import numpy as np\n",
    "\n",
    "# Creating a 3x3 identity matrix\n",
    "identity_matrix = np.eye(4)\n",
    "print(identity_matrix)\n"
   ]
  },
  {
   "cell_type": "code",
   "execution_count": 13,
   "metadata": {},
   "outputs": [
    {
     "name": "stdout",
     "output_type": "stream",
     "text": [
      "0.837698564588314\n"
     ]
    }
   ],
   "source": [
    "#7. Write a NumPy program to generate a random number between 0 and 1  \n",
    "import numpy as np\n",
    "\n",
    "# Generating a random number between 0 and 1\n",
    "random_number = np.random.rand()\n",
    "print(random_number)\n"
   ]
  },
  {
   "cell_type": "code",
   "execution_count": 21,
   "metadata": {},
   "outputs": [
    {
     "name": "stdout",
     "output_type": "stream",
     "text": [
      "[-0.02439968 -0.32089048  0.56918007 -0.65712358 -0.58237531  2.43533794\n",
      "  0.8787705   2.06101484  1.60597087  1.07985092  1.08212296 -0.35689166\n",
      " -0.28204763 -0.17215406 -0.26435145]\n"
     ]
    }
   ],
   "source": [
    "#8. Write a NumPy program to generate an array of 15 random numbers from a standard normal distribution \n",
    "import numpy as np\n",
    "\n",
    "# Generating an array of 15 random numbers from a standard normal distribution\n",
    "random_numbers = np.random.randn(15)\n",
    "print(random_numbers)\n"
   ]
  },
  {
   "cell_type": "code",
   "execution_count": 22,
   "metadata": {},
   "outputs": [
    {
     "name": "stdout",
     "output_type": "stream",
     "text": [
      "[16 17 18 19 20 21 22 23 24 25 26 27 28 29 30 31 32 33 34 35 36 37 38 39\n",
      " 40 41 42 43 44 45 46 47 48 49 50 51 52 53 54]\n"
     ]
    }
   ],
   "source": [
    "#9. Write a NumPy program to create a vector with values ranging from 15 to 55 and print all values except the first and last.  \n",
    "import numpy as np\n",
    "\n",
    "# Creating a vector with values ranging from 15 to 55\n",
    "vector = np.arange(15, 56)\n",
    "\n",
    "# Printing all values except the first and last\n",
    "print(vector[1:-1])\n"
   ]
  },
  {
   "cell_type": "code",
   "execution_count": null,
   "metadata": {},
   "outputs": [],
   "source": [
    "#10. Write a NumPy program to create a vector of length 5 filled with arbitrary integers from 0 to 10  \n",
    "import numpy as np\n",
    "\n",
    "# Creating a vector of length 5 filled with arbitrary integers from 0 to 10\n",
    "vector = np.random.randint(0, 11, 5)\n",
    "print(vector)\n"
   ]
  },
  {
   "cell_type": "code",
   "execution_count": 23,
   "metadata": {},
   "outputs": [
    {
     "name": "stdout",
     "output_type": "stream",
     "text": [
      "[[1. 1. 1. 1. 1. 1. 1. 1. 1. 1.]\n",
      " [1. 0. 0. 0. 0. 0. 0. 0. 0. 1.]\n",
      " [1. 0. 0. 0. 0. 0. 0. 0. 0. 1.]\n",
      " [1. 0. 0. 0. 0. 0. 0. 0. 0. 1.]\n",
      " [1. 0. 0. 0. 0. 0. 0. 0. 0. 1.]\n",
      " [1. 0. 0. 0. 0. 0. 0. 0. 0. 1.]\n",
      " [1. 0. 0. 0. 0. 0. 0. 0. 0. 1.]\n",
      " [1. 0. 0. 0. 0. 0. 0. 0. 0. 1.]\n",
      " [1. 0. 0. 0. 0. 0. 0. 0. 0. 1.]\n",
      " [1. 1. 1. 1. 1. 1. 1. 1. 1. 1.]]\n"
     ]
    }
   ],
   "source": [
    "#11. Write a NumPy program to create a 10x10 matrix, in which the elements on the borders will be equal to 1, and inside 0.  \n",
    "import numpy as np\n",
    "\n",
    "# Creating a 10x10 matrix filled with zeros\n",
    "matrix = np.zeros((10, 10))\n",
    "\n",
    "# Setting the border elements to 1\n",
    "matrix[0, :] = 1\n",
    "matrix[-1, :] = 1\n",
    "matrix[:, 0] = 1\n",
    "matrix[:, -1] = 1\n",
    "\n",
    "print(matrix)\n"
   ]
  },
  {
   "cell_type": "code",
   "execution_count": 24,
   "metadata": {},
   "outputs": [
    {
     "name": "stdout",
     "output_type": "stream",
     "text": [
      "[[1. 0. 0. 0. 0.]\n",
      " [0. 2. 0. 0. 0.]\n",
      " [0. 0. 3. 0. 0.]\n",
      " [0. 0. 0. 4. 0.]\n",
      " [0. 0. 0. 0. 5.]]\n"
     ]
    }
   ],
   "source": [
    "#12. Write a NumPy program to create a 5x5 zero matrix with elements on the main diagonal equal to 1, 2, 3, 4, 5. \n",
    "import numpy as np\n",
    "\n",
    "# Creating a 5x5 zero matrix\n",
    "matrix = np.zeros((5, 5))\n",
    "\n",
    "# Setting the elements on the main diagonal\n",
    "np.fill_diagonal(matrix, [1, 2, 3, 4, 5])\n",
    "\n",
    "print(matrix)\n"
   ]
  },
  {
   "cell_type": "code",
   "execution_count": 25,
   "metadata": {},
   "outputs": [
    {
     "name": "stdout",
     "output_type": "stream",
     "text": [
      "[[0. 1. 0. 1.]\n",
      " [1. 0. 1. 0.]\n",
      " [0. 1. 0. 1.]\n",
      " [1. 0. 1. 0.]]\n"
     ]
    }
   ],
   "source": [
    "#13. Write a NumPy program to create a 4x4 matrix in which 0 and 1 are staggered, with zeros on the main diagonal.  \n",
    "import numpy as np\n",
    "\n",
    "# Creating a 4x4 zero matrix\n",
    "matrix = np.zeros((4, 4))\n",
    "\n",
    "# Filling the matrix with staggered 0 and 1, with zeros on the main diagonal\n",
    "for i in range(4):\n",
    "    for j in range(4):\n",
    "        if i != j:\n",
    "            matrix[i, j] = (i + j) % 2\n",
    "\n",
    "print(matrix)\n"
   ]
  },
  {
   "cell_type": "code",
   "execution_count": 26,
   "metadata": {},
   "outputs": [
    {
     "name": "stdout",
     "output_type": "stream",
     "text": [
      "Array 1: [1 2 3 4 5]\n",
      "Array 2: [ 6  7  8  9 10]\n"
     ]
    }
   ],
   "source": [
    "#14. Write a NumPy program to save two given arrays into a single file in compressed format (.npz format) and load it.  \n",
    "import numpy as np\n",
    "\n",
    "# Creating two arrays\n",
    "array1 = np.array([1, 2, 3, 4, 5])\n",
    "array2 = np.array([6, 7, 8, 9, 10])\n",
    "\n",
    "# Saving the arrays into a single compressed file\n",
    "np.savez_compressed('arrays_compressed.npz', array1=array1, array2=array2)\n",
    "\n",
    "# Loading the arrays from the compressed file\n",
    "loaded = np.load('arrays_compressed.npz')\n",
    "loaded_array1 = loaded['array1']\n",
    "loaded_array2 = loaded['array2']\n",
    "\n",
    "print('Array 1:', loaded_array1)\n",
    "print('Array 2:', loaded_array2)\n"
   ]
  },
  {
   "cell_type": "code",
   "execution_count": 27,
   "metadata": {},
   "outputs": [
    {
     "name": "stdout",
     "output_type": "stream",
     "text": [
      "[0.49416134 0.5248667  0.22188861 0.66830057 0.04543359 0.57806284\n",
      " 0.47063021 0.63477081 0.0666608  0.11018022 0.73889834 0.88639259\n",
      " 0.8989799  0.4263643  0.55033815 0.88475207 0.11158039 0.54234322\n",
      " 0.83134459 0.669679   0.0257901  0.61879075 0.43175784 0.45776777\n",
      " 0.12910686 0.54806024 0.29842551 0.09553079 0.43340997 0.1423001\n",
      " 0.0275019  0.81138502 0.8232175  0.12820531 0.80371825 0.32659085\n",
      " 0.73762219 0.55243495 0.02019534 0.88507979]\n"
     ]
    }
   ],
   "source": [
    "#15. Write a NumPy program to create a one-dimensional array of forty pseudo-randomly generated values.\n",
    "import numpy as np\n",
    "\n",
    "# Generating a one-dimensional array of forty pseudo-randomly generated values\n",
    "random_array = np.random.rand(40)\n",
    "\n",
    "print(random_array)\n"
   ]
  },
  {
   "cell_type": "code",
   "execution_count": 28,
   "metadata": {},
   "outputs": [
    {
     "name": "stdout",
     "output_type": "stream",
     "text": [
      "Numbers less than 25: [10 20]\n",
      "Numbers greater than 25: [30 40 50]\n"
     ]
    }
   ],
   "source": [
    "#16. Write a NumPy program to extract all numbers from a given array which are less and greater than a specified number.  \n",
    "import numpy as np\n",
    "\n",
    "def extract_numbers(array, number):\n",
    "    # Extracting numbers less than 'number'\n",
    "    less_than = array[array < number]\n",
    "    \n",
    "    # Extracting numbers greater than 'number'\n",
    "    greater_than = array[array > number]\n",
    "    \n",
    "    return less_than, greater_than\n",
    "\n",
    "# Example usage:\n",
    "given_array = np.array([10, 20, 30, 40, 50])\n",
    "specified_number = 25\n",
    "\n",
    "less_than_numbers, greater_than_numbers = extract_numbers(given_array, specified_number)\n",
    "\n",
    "print(f\"Numbers less than {specified_number}: {less_than_numbers}\")\n",
    "print(f\"Numbers greater than {specified_number}: {greater_than_numbers}\")\n"
   ]
  }
 ],
 "metadata": {
  "kernelspec": {
   "display_name": "Python 3",
   "language": "python",
   "name": "python3"
  },
  "language_info": {
   "codemirror_mode": {
    "name": "ipython",
    "version": 3
   },
   "file_extension": ".py",
   "mimetype": "text/x-python",
   "name": "python",
   "nbconvert_exporter": "python",
   "pygments_lexer": "ipython3",
   "version": "3.12.3"
  }
 },
 "nbformat": 4,
 "nbformat_minor": 2
}
