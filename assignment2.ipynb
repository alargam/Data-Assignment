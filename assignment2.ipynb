{
 "cells": [
  {
   "cell_type": "code",
   "execution_count": null,
   "metadata": {},
   "outputs": [],
   "source": [
    "#1. Write a Pandas program to create and display a one-dimensional array-like object containing an array of data using Pandas module\n",
    "import pandas as pd\n",
    "\n",
    "# Creating a one-dimensional array-like object (Series) using Pandas\n",
    "data = pd.Series([10, 20, 30, 40, 50])\n",
    "\n",
    "# Displaying the array-like object\n",
    "print(\"One-dimensional array-like object:\")\n",
    "print(data)\n"
   ]
  },
  {
   "cell_type": "code",
   "execution_count": 1,
   "metadata": {},
   "outputs": [
    {
     "name": "stdout",
     "output_type": "stream",
     "text": [
      "Pandas Series:\n",
      "0    10\n",
      "1    20\n",
      "2    30\n",
      "3    40\n",
      "4    50\n",
      "dtype: int64\n",
      "\n",
      "Converted Python list:\n",
      "[10, 20, 30, 40, 50]\n",
      "\n",
      "Type of converted Python list:\n",
      "<class 'list'>\n"
     ]
    }
   ],
   "source": [
    "#2. Write a Pandas program to convert a Panda module Series to Python list and it's type\n",
    "import pandas as pd\n",
    "\n",
    "# Creating a Pandas Series\n",
    "data = pd.Series([10, 20, 30, 40, 50])\n",
    "\n",
    "# Converting Pandas Series to Python list\n",
    "data_list = data.tolist()\n",
    "\n",
    "# Determining the type of the converted list\n",
    "list_type = type(data_list)\n",
    "\n",
    "print(\"Pandas Series:\")\n",
    "print(data)\n",
    "print(\"\\nConverted Python list:\")\n",
    "print(data_list)\n",
    "print(\"\\nType of converted Python list:\")\n",
    "print(list_type)\n"
   ]
  },
  {
   "cell_type": "code",
   "execution_count": 2,
   "metadata": {},
   "outputs": [
    {
     "name": "stdout",
     "output_type": "stream",
     "text": [
      "Series 1:\n",
      "0    10\n",
      "1    20\n",
      "2    30\n",
      "3    40\n",
      "4    50\n",
      "dtype: int64\n",
      "\n",
      "Series 2:\n",
      "0    15\n",
      "1    25\n",
      "2    35\n",
      "3    45\n",
      "4    55\n",
      "dtype: int64\n",
      "\n",
      "Comparison Result (Equality):\n",
      "0    False\n",
      "1    False\n",
      "2    False\n",
      "3    False\n",
      "4    False\n",
      "dtype: bool\n"
     ]
    }
   ],
   "source": [
    "#3. Write a Pandas program to compare the elements of the two Pandas Series\n",
    "import pandas as pd\n",
    "\n",
    "# Creating two Pandas Series\n",
    "series1 = pd.Series([10, 20, 30, 40, 50])\n",
    "series2 = pd.Series([15, 25, 35, 45, 55])\n",
    "\n",
    "# Comparing elements of the two Pandas Series\n",
    "comparison_result = series1 == series2\n",
    "\n",
    "print(\"Series 1:\")\n",
    "print(series1)\n",
    "print(\"\\nSeries 2:\")\n",
    "print(series2)\n",
    "print(\"\\nComparison Result (Equality):\")\n",
    "print(comparison_result)\n"
   ]
  },
  {
   "cell_type": "code",
   "execution_count": 3,
   "metadata": {},
   "outputs": [
    {
     "name": "stdout",
     "output_type": "stream",
     "text": [
      "Original Data Type:\n",
      "int64\n",
      "\n",
      "Converted Series:\n",
      "0    10.0\n",
      "1    20.0\n",
      "2    30.0\n",
      "3    40.0\n",
      "4    50.0\n",
      "dtype: float64\n",
      "\n",
      "New Data Type:\n",
      "float64\n"
     ]
    }
   ],
   "source": [
    "#4. Write a Pandas program to change the data type of given a column or a Series.\n",
    "import pandas as pd\n",
    "\n",
    "# Creating a Pandas Series\n",
    "data = pd.Series([10, 20, 30, 40, 50])\n",
    "\n",
    "# Displaying the original data type\n",
    "print(\"Original Data Type:\")\n",
    "print(data.dtype)\n",
    "\n",
    "# Changing the data type of the Series to float\n",
    "data_float = data.astype(float)\n",
    "\n",
    "# Displaying the new data type and the converted Series\n",
    "print(\"\\nConverted Series:\")\n",
    "print(data_float)\n",
    "print(\"\\nNew Data Type:\")\n",
    "print(data_float.dtype)\n"
   ]
  },
  {
   "cell_type": "code",
   "execution_count": null,
   "metadata": {},
   "outputs": [],
   "source": [
    "# 5. Write a Pandas program to get the powers of an array values element-wise.\n",
    "# Note: First array elements raised to powers from second array\n",
    "# Sample data: {'X':[78,85,96,80,86], 'Y':[84,94,89,83,86],'Z':[86,97,96,72,83]}\n",
    "# Expected Output:\n",
    "# X Y Z\n",
    "# 0 78 84 86\n",
    "# 1 85 94 97\n",
    "# 2 96 89 96\n",
    "# 3 80 83 72\n",
    "# 4 86 86 83\n",
    "\n",
    "import pandas as pd\n",
    "import numpy as np\n",
    "\n",
    "# Sample data\n",
    "data = {'X': [78, 85, 96, 80, 86], 'Y': [84, 94, 89, 83, 86], 'Z': [86, 97, 96, 72, 83]}\n",
    "\n",
    "# Creating a DataFrame from the sample data\n",
    "df = pd.DataFrame(data)\n",
    "\n",
    "# Getting the powers element-wise\n",
    "powers_df = df.apply(np.power, args=(2,))\n",
    "\n",
    "# Displaying the original DataFrame and the powers DataFrame side by side\n",
    "result = pd.concat([df, powers_df], axis=1)\n",
    "result.columns = ['X', 'Y', 'Z', 'X^2', 'Y^2', 'Z^2']\n",
    "\n",
    "print(result)\n"
   ]
  },
  {
   "cell_type": "code",
   "execution_count": 11,
   "metadata": {},
   "outputs": [
    {
     "name": "stdout",
     "output_type": "stream",
     "text": [
      "First three rows of the data frame:\n",
      "        name  score  attempts qualify\n",
      "a  Anastasia   12.5         1     yes\n",
      "b       Dima    9.0         3      no\n",
      "c  Katherine   16.5         2     yes\n"
     ]
    }
   ],
   "source": [
    "# 6. Write a Pandas program to get the first 3 rows of a given DataFrame.\n",
    "# Sample Python dictionary data and list labels:\n",
    "# exam_data = {'name': ['Anastasia', 'Dima', 'Katherine', 'James', 'Emily', 'Michael', \n",
    "# 'Matthew', 'Laura', 'Kevin', 'Jonas'],\n",
    "# 'score': [12.5, 9, 16.5, np.nan, 9, 20, 14.5, np.nan, 8, 19],\n",
    "# 'attempts': [1, 3, 2, 3, 2, 3, 1, 1, 2, 1],\n",
    "# 'qualify': ['yes', 'no', 'yes', 'no', 'no', 'yes', 'yes', 'no', 'no', 'yes']}\n",
    "# labels = ['a', 'b', 'c', 'd', 'e', 'f', 'g', 'h', 'i', 'j']\n",
    "# Expected Output:\n",
    "# First three rows of the data frame:\n",
    "# attempts name qualify score\n",
    "# a 1 Anastasia yes 12.5\n",
    "# b 3 Dima no 9.0\n",
    "# c 2 Katherine yes 16.5\n",
    "\n",
    "import pandas as pd\n",
    "import numpy as np\n",
    "\n",
    "# Sample data\n",
    "exam_data = {\n",
    "    'name': ['Anastasia', 'Dima', 'Katherine', 'James', 'Emily', 'Michael', 'Matthew', 'Laura', 'Kevin', 'Jonas'],\n",
    "    'score': [12.5, 9, 16.5, np.nan, 9, 20, 14.5, np.nan, 8, 19],\n",
    "    'attempts': [1, 3, 2, 3, 2, 3, 1, 1, 2, 1],\n",
    "    'qualify': ['yes', 'no', 'yes', 'no', 'no', 'yes', 'yes', 'no', 'no', 'yes']\n",
    "}\n",
    "\n",
    "labels = ['a', 'b', 'c', 'd', 'e', 'f', 'g', 'h', 'i', 'j']\n",
    "\n",
    "# Creating a DataFrame\n",
    "df = pd.DataFrame(exam_data, index=labels)\n",
    "\n",
    "# Getting the first 3 rows of the DataFrame\n",
    "first_three_rows = df.head(3)\n",
    "\n",
    "print(\"First three rows of the data frame:\")\n",
    "print(first_three_rows)\n",
    "\n"
   ]
  }
 ],
 "metadata": {
  "kernelspec": {
   "display_name": "Python 3",
   "language": "python",
   "name": "python3"
  },
  "language_info": {
   "codemirror_mode": {
    "name": "ipython",
    "version": 3
   },
   "file_extension": ".py",
   "mimetype": "text/x-python",
   "name": "python",
   "nbconvert_exporter": "python",
   "pygments_lexer": "ipython3",
   "version": "3.12.3"
  }
 },
 "nbformat": 4,
 "nbformat_minor": 2
}
